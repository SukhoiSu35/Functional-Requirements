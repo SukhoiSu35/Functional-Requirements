{
 "cells": [
  {
   "attachments": {},
   "cell_type": "markdown",
   "metadata": {},
   "source": [
    "PURPOSE : I am trying to find out about plane crashes and my main motive is to find out what the most fatal crash was. The reason for finding this is because I want to have a closer look into what happened, how many people died, cause and how it can be fixed later on. I am not investigating crashes before 2010 because multiple of those crashes were because of hijacking as security system was not advanced back then. After 2010 the security systems were way more advanaced and there were way less hijacking attempts that led to crashes. "
   ]
  },
  {
   "attachments": {},
   "cell_type": "markdown",
   "metadata": {},
   "source": [
    "MISSING DATA : I feel that it is very necessary for me to conduct this analysis as I am investigating more about what happened and I am also trying to find out how it can be prevented later on. Any other viewer who installs the data set wont fully understand the main cause of the crash as there is minimal explanation but my plan is to undergo a through research once I select which was the most deadly crash of all from the timespan of 2010 - 2024"
   ]
  },
  {
   "attachments": {},
   "cell_type": "markdown",
   "metadata": {},
   "source": [
    "STAKEHOLDERS : The air companies will be the stakeholders for this analysis as they would want to know how to stop these crashes from happening in the future. The passengers would also want to know because they would want to know what is the airline that had the most crashes so they could consider what airline to choose when booking the flight"
   ]
  }
 ],
 "metadata": {
  "language_info": {
   "name": "python"
  },
  "orig_nbformat": 4
 },
 "nbformat": 4,
 "nbformat_minor": 2
}

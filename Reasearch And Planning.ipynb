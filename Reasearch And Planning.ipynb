{
 "cells": [
  {
   "attachments": {},
   "cell_type": "markdown",
   "metadata": {},
   "source": [
    "**RESEARCH AND PLANNING**"
   ]
  },
  {
   "attachments": {},
   "cell_type": "markdown",
   "metadata": {},
   "source": [
    "**RESEARCH OF CHOSEN ISSUE**"
   ]
  },
  {
   "attachments": {},
   "cell_type": "markdown",
   "metadata": {},
   "source": [
    "PURPOSE : I am trying to find out about plane crashes and my main motive is to find out what the most fatal crash was. The reason for finding this is because I want to have a closer look into what happened, how many people died, cause and how it can be fixed later on. I am not investigating crashes before 2010 because multiple of those crashes were because of hijacking as security system was not advanced back then. After 2010 the security systems were way more advanaced and there were way less hijacking attempts that led to crashes. "
   ]
  },
  {
   "attachments": {},
   "cell_type": "markdown",
   "metadata": {},
   "source": [
    "MISSING DATA : I feel that it is very necessary for me to conduct this analysis as I am investigating more about what happened and I am also trying to find out how it can be prevented later on. Any other viewer who installs the data set wont fully understand the main cause of the crash as there is minimal explanation but my plan is to undergo a through research once I select which was the most deadly crash of all from the timespan of 2010 - 2024"
   ]
  },
  {
   "attachments": {},
   "cell_type": "markdown",
   "metadata": {},
   "source": [
    "STAKEHOLDERS : The air companies will be the stakeholders for this analysis as they would want to know how to stop these crashes from happening in the future. The passengers would also want to know because they would want to know what is the airline that had the most crashes so they could consider what airline to choose when booking the flight"
   ]
  },
  {
   "attachments": {},
   "cell_type": "markdown",
   "metadata": {},
   "source": [
    "USE : The information that I obtain from this analysis can be used to prevent further plane crashes as I have said before. The air companies will mainly benefit from this because they can investigate further and prevent it from happening a second time. Normal passengers also benefit from this as they can examine this to make sure they are safe on the airline that they choose\n",
    "***"
   ]
  },
  {
   "attachments": {},
   "cell_type": "markdown",
   "metadata": {},
   "source": [
    "**PRIVACY AND SECURITY**\n"
   ]
  },
  {
   "attachments": {},
   "cell_type": "markdown",
   "metadata": {},
   "source": [
    "DATA PRIVACY OF SOURCE : The source needs to protect the users \n",
    "***"
   ]
  },
  {
   "attachments": {},
   "cell_type": "markdown",
   "metadata": {},
   "source": [
    "**DATA DICTIONARY**\n",
    "| Field | Datatype  | Format for Display | Description | Example | Validation |\n",
    "|:--------:|:--------:|:--------:|:--------:|:--------:|:--------:|\n",
    "|  Date   |  datetime64   |  m/d/yyyy   |  The date of the accident   |  March/27/1977   |  Must be in this specific format   |\n",
    "|  Time    |  integer64  |  nnnn   |   The time of the accident  |  0855   |  time must be stated in 24 hour time    |\n",
    "|  Location   |  Object   |  No specific format    |  Where the accident happened   |   Tenerife Airport  |   The full location must be stated  |\n",
    "|  Operator    |  Object   |  No specific format   |  Who was the flight operator   |  QANTAS   |  Operator must be a valid opeerator   |\n",
    "|  Flight   |  Object   |  No specific format  |  What type of flight   |  Phillipine Airlines   |  Must be a valid flight   |\n",
    "|  Route   |  Object   |  No specific format   |  What was the flights path   |  Sydney - Paris   |  Always state the departure and arrival of the plane   |\n",
    "|  AC Type  |  Object   |  No specific format   |  The type of aircraft involved   |  Boeing 787   |  Model must be correct   |\n",
    "|  Registration   |  Object   |  No specific format   |  The aircraft's registration number   |  N7864   |  Must be registered   |\n",
    "|  cn / ln   |  Object   |  No specific format   |  Contruction Number/ Line Number   |  12345/6789   |  Must be real   |\n",
    "|  Aboard   |  integer64   |  No specific format  |  Number of people aboard the aircraft   |  320   |  Must count even if deceased   |\n",
    "|  Fatalities  |  integer64  |  No specific format   |  Number of fatalities   |  18   |  Correct number of people counted   |\n",
    "|  Ground   |  integer64   |  No specific format   |  Number of groud fatalities   |  9   |  Correct number of people counted   |\n",
    "|  Summary   |  object   |  No specific format   |  Brief Summary of the accident   |  Plane experienced engine issues on final approach and couldnt fully reach the airport   |  Must be more thant 10 words    |"
   ]
  },
  {
   "cell_type": "markdown",
   "metadata": {},
   "source": []
  },
  {
   "attachments": {},
   "cell_type": "markdown",
   "metadata": {},
   "source": [
    "\n"
   ]
  }
 ],
 "metadata": {
  "language_info": {
   "name": "python"
  },
  "orig_nbformat": 4
 },
 "nbformat": 4,
 "nbformat_minor": 2
}

{
 "cells": [
  {
   "attachments": {},
   "cell_type": "markdown",
   "metadata": {},
   "source": [
    "\n",
    "**Data: I am looking to analyse the data of plane crashes from the timespan of 2010 - 2024**\n",
    "\n",
    "**Goal: I am trying to find out what is the most horrific plane crash of them all**\n",
    "\n",
    "**Source: https://www.kaggle.com/datasets/luiscfrancisco/plane-crashes-dataset**\n",
    "\n",
    "**Access: The data is available publicly**\n",
    "\n",
    "**Access Method:.csv**"
   ]
  },
  {
   "attachments": {},
   "cell_type": "markdown",
   "metadata": {},
   "source": [
    "Data Loading: \n",
    "**description = \n",
    "**input = \n",
    "** Output =\n",
    "\n",
    "Data Cleaning: \n",
    "**description = \n",
    "**input = \n",
    "** Output =\n",
    "\n",
    "Data Analysis: \n",
    "**description = \n",
    "**input = \n",
    "** Output =\n",
    "\n",
    "Data Visualisation: \n",
    "**description = \n",
    "**input = \n",
    "** Output =\n",
    "\n",
    "Data Reporting: \n",
    "**description = \n",
    "**input = \n",
    "** Output =\n",
    "Data Cleaning: Does the system need to handle missing values or allow for filtering, sorting and grouping of data?\n",
    "Data Analysis: What kind of statistical analysis does the system need to allow for (e.g. mean, median, mode)?\n",
    "Data Visualisation: How will the data need to be visualised (e.g. Pandas dataframes / Matplotlib chart types)?\n",
    "Data Reporting: What output should the system include, and do we need to store the final dataset somewhere (e.g. .csv or .txt file)?\n"
   ]
  },
  {
   "attachments": {},
   "cell_type": "markdown",
   "metadata": {},
   "source": []
  }
 ],
 "metadata": {
  "language_info": {
   "name": "python"
  },
  "orig_nbformat": 4
 },
 "nbformat": 4,
 "nbformat_minor": 2
}

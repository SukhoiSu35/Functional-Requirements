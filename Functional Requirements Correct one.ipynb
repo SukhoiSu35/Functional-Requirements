{
 "cells": [
  {
   "attachments": {},
   "cell_type": "markdown",
   "metadata": {},
   "source": [
    "\n",
    "**Data: I am looking to analyse the data of plane crashes from the timespan of 2010 - 2024**\n",
    "\n",
    "**Goal: I am trying to find out what is the most horrific plane crash of them all**\n",
    "\n",
    "**Source: https://www.kaggle.com/datasets/luiscfrancisco/plane-crashes-dataset**\n",
    "\n",
    "**Access: The data is available publicly**\n",
    "\n",
    "**Access Method:.csv**"
   ]
  },
  {
   "attachments": {},
   "cell_type": "markdown",
   "metadata": {},
   "source": [
    "**FUNCTIONAL REQUIREMENTS**"
   ]
  },
  {
   "attachments": {},
   "cell_type": "markdown",
   "metadata": {},
   "source": [
    "**Data Loading:**\n",
    "**description = \n",
    "\n",
    "**input = \n",
    "\n",
    "**Output =\n",
    "\n",
    "**Data Cleaning:** \n",
    "\n",
    "**description = The sytstem needs to handle missing values and allow filtering, sorting and grouping of data**\n",
    "\n",
    "**input = 5 Lines of accident details**\n",
    "\n",
    "**Output = A shorter, compressed amount**\n",
    "\n",
    "**Data Analysis:** \n",
    "**description = \n",
    "\n",
    "**input = \n",
    "\n",
    "**Output =\n",
    "\n",
    "**Data Visualisation:**\n",
    "**description = \n",
    "\n",
    "**input = \n",
    "\n",
    "**Output =\n",
    "\n",
    "**Data Reporting:** \n",
    "**description = \n",
    "\n",
    "**input = \n",
    "\n",
    "**Output =\n",
    "Data Cleaning: Does the system need to handle missing values or allow for filtering, sorting and grouping of data?\n",
    "Data Analysis: What kind of statistical analysis does the system need to allow for (e.g. mean, median, mode)?\n",
    "Data Visualisation: How will the data need to be visualised (e.g. Pandas dataframes / Matplotlib chart types)?\n",
    "Data Reporting: What output should the system include, and do we need to store the final dataset somewhere (e.g. .csv or .txt file)?\n"
   ]
  },
  {
   "attachments": {},
   "cell_type": "markdown",
   "metadata": {},
   "source": []
  }
 ],
 "metadata": {
  "language_info": {
   "name": "python"
  },
  "orig_nbformat": 4
 },
 "nbformat": 4,
 "nbformat_minor": 2
}

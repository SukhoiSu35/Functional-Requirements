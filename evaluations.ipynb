{
 "cells": [
  {
   "cell_type": "markdown",
   "metadata": {},
   "source": [
    "**Testing and Evaluating**\n",
    "\n",
    "Overall I think I did a good job, my calculations had a little bit of errors at the start but most of them were resolved near to the end of the task. My information was very accurate except for the fact that some times were missing because those crashes happened a while ago. Overall I think that this information will be used in many different productive ways and I personally think I did a good job\n",
    "\n",
    "\n"
   ]
  },
  {
   "cell_type": "markdown",
   "metadata": {},
   "source": [
    "**Peer Evaluation**\n",
    "\n",
    "Anthony  - The code is sophisticated because you have imported tknter to create a good graphical user interface. The cde is very easy to understand. Great Job!\n",
    "\n",
    " Darrell - Good code, and good dataset. The topic that you chose to research was a good topic and you did a good job in calculating what you stated at the start "
   ]
  },
  {
   "cell_type": "markdown",
   "metadata": {},
   "source": [
    "**Evaluation of Final Product in Relation to Functional and Non-Functional Requirements**\n",
    "\n",
    "Yes my user interface did work and I think i did great. My calculations were so accurate but it was a good effort"
   ]
  },
  {
   "cell_type": "markdown",
   "metadata": {},
   "source": [
    "**Evaluation of your Project in Relation to Testing and Project Management**\n",
    "\n",
    "My overall time management was not that great because I did not pay too much attention at that time but I worked very hard in the week the assessment was due but I think it paid off. I conducted so many tests in the code and all i came to was failiures until I made it work. My graphical user interface kept on going all over the place and when i tried to fix it I would make a small error that was unnoticiable. I put a lot of effort into this task and I hope to get good marks"
   ]
  }
 ],
 "metadata": {
  "language_info": {
   "name": "python"
  }
 },
 "nbformat": 4,
 "nbformat_minor": 2
}
